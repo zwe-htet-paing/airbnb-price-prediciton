{
 "cells": [
  {
   "cell_type": "code",
   "execution_count": 1,
   "metadata": {},
   "outputs": [],
   "source": [
    "import pandas as pd\n",
    "import numpy as np\n",
    "\n",
    "import pickle\n",
    "\n",
    "import seaborn as sns\n",
    "import matplotlib.pyplot as plt\n",
    "\n",
    "from sklearn.feature_extraction import DictVectorizer\n",
    "from sklearn.linear_model import LinearRegression, Lasso, Ridge\n",
    "from sklearn.pipeline import Pipeline\n",
    "from sklearn.metrics import root_mean_squared_error\n",
    "\n",
    "import warnings\n",
    "warnings.filterwarnings(\"ignore\")"
   ]
  },
  {
   "cell_type": "code",
   "execution_count": 2,
   "metadata": {},
   "outputs": [],
   "source": [
    "def read_dataframe(filename):\n",
    "    df = pd.read_csv(filename)\n",
    "    \n",
    "    # Handle missing values\n",
    "    df = df.dropna(subset=['price'])\n",
    "    df['reviews_per_month'] = df['reviews_per_month'].fillna(0)\n",
    "    df['last_review'] = pd.to_datetime(df['last_review'])\n",
    "    \n",
    "    # Apply a log10 transformation to the target column\n",
    "    df['price'] = np.log10(df['price'])\n",
    "\n",
    "    return df"
   ]
  },
  {
   "cell_type": "code",
   "execution_count": 3,
   "metadata": {},
   "outputs": [],
   "source": [
    "def preprocess(df):\n",
    "    # Calculate IQR\n",
    "    Q1 = df['price'].quantile(0.25)  # First quartile (25th percentile)\n",
    "    Q3 = df['price'].quantile(0.75)  # Third quartile (75th percentile)\n",
    "    IQR = Q3 - Q1  # Interquartile range\n",
    "\n",
    "    # Define outlier boundaries\n",
    "    lower_bound = Q1 - 1.5 * IQR\n",
    "    upper_bound = Q3 + 1.5 * IQR\n",
    "    \n",
    "    # Remove outliers\n",
    "    df = df[(df['price'] >= lower_bound) & (df['price'] <= upper_bound)].reset_index(drop=True)\n",
    "    \n",
    "    return df\n"
   ]
  },
  {
   "cell_type": "code",
   "execution_count": 4,
   "metadata": {},
   "outputs": [],
   "source": [
    "df_train = read_dataframe(\"../datasets/airbnb-listings-may.csv\")\n",
    "df_val = read_dataframe(\"../datasets/airbnb-listings-june.csv\")"
   ]
  },
  {
   "cell_type": "code",
   "execution_count": 5,
   "metadata": {},
   "outputs": [],
   "source": [
    "df_train = preprocess(df_train)\n",
    "df_val = preprocess(df_val)"
   ]
  },
  {
   "cell_type": "code",
   "execution_count": 6,
   "metadata": {},
   "outputs": [
    {
     "data": {
      "text/plain": [
       "(328, 357)"
      ]
     },
     "execution_count": 6,
     "metadata": {},
     "output_type": "execute_result"
    }
   ],
   "source": [
    "len(df_train), len(df_val)"
   ]
  },
  {
   "cell_type": "code",
   "execution_count": 7,
   "metadata": {},
   "outputs": [
    {
     "data": {
      "text/html": [
       "<div>\n",
       "<style scoped>\n",
       "    .dataframe tbody tr th:only-of-type {\n",
       "        vertical-align: middle;\n",
       "    }\n",
       "\n",
       "    .dataframe tbody tr th {\n",
       "        vertical-align: top;\n",
       "    }\n",
       "\n",
       "    .dataframe thead th {\n",
       "        text-align: right;\n",
       "    }\n",
       "</style>\n",
       "<table border=\"1\" class=\"dataframe\">\n",
       "  <thead>\n",
       "    <tr style=\"text-align: right;\">\n",
       "      <th></th>\n",
       "      <th>id</th>\n",
       "      <th>name</th>\n",
       "      <th>host_id</th>\n",
       "      <th>host_name</th>\n",
       "      <th>neighbourhood_group</th>\n",
       "      <th>neighbourhood</th>\n",
       "      <th>latitude</th>\n",
       "      <th>longitude</th>\n",
       "      <th>room_type</th>\n",
       "      <th>price</th>\n",
       "      <th>minimum_nights</th>\n",
       "      <th>number_of_reviews</th>\n",
       "      <th>last_review</th>\n",
       "      <th>reviews_per_month</th>\n",
       "      <th>calculated_host_listings_count</th>\n",
       "      <th>availability_365</th>\n",
       "      <th>number_of_reviews_ltm</th>\n",
       "      <th>license</th>\n",
       "    </tr>\n",
       "  </thead>\n",
       "  <tbody>\n",
       "    <tr>\n",
       "      <th>0</th>\n",
       "      <td>1489424</td>\n",
       "      <td>Welcoming, easygoing, comfy bed, entire level</td>\n",
       "      <td>5294164</td>\n",
       "      <td>Efrat</td>\n",
       "      <td>NaN</td>\n",
       "      <td>FOURTEENTH WARD</td>\n",
       "      <td>42.66719</td>\n",
       "      <td>-73.81580</td>\n",
       "      <td>Private room</td>\n",
       "      <td>1.698970</td>\n",
       "      <td>1</td>\n",
       "      <td>250</td>\n",
       "      <td>2024-04-21</td>\n",
       "      <td>1.93</td>\n",
       "      <td>1</td>\n",
       "      <td>255</td>\n",
       "      <td>48</td>\n",
       "      <td>NaN</td>\n",
       "    </tr>\n",
       "    <tr>\n",
       "      <th>1</th>\n",
       "      <td>3820211</td>\n",
       "      <td>Restored Precinct in Center Sq. w/Parking</td>\n",
       "      <td>19648678</td>\n",
       "      <td>Terra</td>\n",
       "      <td>NaN</td>\n",
       "      <td>SIXTH WARD</td>\n",
       "      <td>42.65222</td>\n",
       "      <td>-73.76724</td>\n",
       "      <td>Entire home/apt</td>\n",
       "      <td>2.071882</td>\n",
       "      <td>2</td>\n",
       "      <td>300</td>\n",
       "      <td>2024-04-28</td>\n",
       "      <td>2.53</td>\n",
       "      <td>4</td>\n",
       "      <td>361</td>\n",
       "      <td>15</td>\n",
       "      <td>NaN</td>\n",
       "    </tr>\n",
       "    <tr>\n",
       "      <th>2</th>\n",
       "      <td>5651579</td>\n",
       "      <td>Large studio apt  by Capital Center &amp; ESP@</td>\n",
       "      <td>29288920</td>\n",
       "      <td>Gregg</td>\n",
       "      <td>NaN</td>\n",
       "      <td>SECOND WARD</td>\n",
       "      <td>42.64615</td>\n",
       "      <td>-73.75966</td>\n",
       "      <td>Entire home/apt</td>\n",
       "      <td>1.954243</td>\n",
       "      <td>1</td>\n",
       "      <td>343</td>\n",
       "      <td>2024-04-21</td>\n",
       "      <td>3.13</td>\n",
       "      <td>2</td>\n",
       "      <td>15</td>\n",
       "      <td>28</td>\n",
       "      <td>NaN</td>\n",
       "    </tr>\n",
       "    <tr>\n",
       "      <th>3</th>\n",
       "      <td>6623339</td>\n",
       "      <td>Center Sq. Loft in Converted Precinct w/ Parking</td>\n",
       "      <td>19648678</td>\n",
       "      <td>Terra</td>\n",
       "      <td>NaN</td>\n",
       "      <td>SIXTH WARD</td>\n",
       "      <td>42.65222</td>\n",
       "      <td>-73.76724</td>\n",
       "      <td>Entire home/apt</td>\n",
       "      <td>2.079181</td>\n",
       "      <td>2</td>\n",
       "      <td>314</td>\n",
       "      <td>2024-04-27</td>\n",
       "      <td>2.89</td>\n",
       "      <td>4</td>\n",
       "      <td>357</td>\n",
       "      <td>11</td>\n",
       "      <td>NaN</td>\n",
       "    </tr>\n",
       "    <tr>\n",
       "      <th>4</th>\n",
       "      <td>8035784</td>\n",
       "      <td>Delightful French Victorian</td>\n",
       "      <td>42430824</td>\n",
       "      <td>John M</td>\n",
       "      <td>NaN</td>\n",
       "      <td>TENTH WARD</td>\n",
       "      <td>42.66063</td>\n",
       "      <td>-73.78115</td>\n",
       "      <td>Private room</td>\n",
       "      <td>2.298853</td>\n",
       "      <td>3</td>\n",
       "      <td>18</td>\n",
       "      <td>2020-07-25</td>\n",
       "      <td>0.17</td>\n",
       "      <td>2</td>\n",
       "      <td>179</td>\n",
       "      <td>0</td>\n",
       "      <td>NaN</td>\n",
       "    </tr>\n",
       "  </tbody>\n",
       "</table>\n",
       "</div>"
      ],
      "text/plain": [
       "        id                                              name   host_id  \\\n",
       "0  1489424     Welcoming, easygoing, comfy bed, entire level   5294164   \n",
       "1  3820211         Restored Precinct in Center Sq. w/Parking  19648678   \n",
       "2  5651579        Large studio apt  by Capital Center & ESP@  29288920   \n",
       "3  6623339  Center Sq. Loft in Converted Precinct w/ Parking  19648678   \n",
       "4  8035784                       Delightful French Victorian  42430824   \n",
       "\n",
       "  host_name  neighbourhood_group    neighbourhood  latitude  longitude  \\\n",
       "0     Efrat                  NaN  FOURTEENTH WARD  42.66719  -73.81580   \n",
       "1     Terra                  NaN       SIXTH WARD  42.65222  -73.76724   \n",
       "2     Gregg                  NaN      SECOND WARD  42.64615  -73.75966   \n",
       "3     Terra                  NaN       SIXTH WARD  42.65222  -73.76724   \n",
       "4    John M                  NaN       TENTH WARD  42.66063  -73.78115   \n",
       "\n",
       "         room_type     price  minimum_nights  number_of_reviews last_review  \\\n",
       "0     Private room  1.698970               1                250  2024-04-21   \n",
       "1  Entire home/apt  2.071882               2                300  2024-04-28   \n",
       "2  Entire home/apt  1.954243               1                343  2024-04-21   \n",
       "3  Entire home/apt  2.079181               2                314  2024-04-27   \n",
       "4     Private room  2.298853               3                 18  2020-07-25   \n",
       "\n",
       "   reviews_per_month  calculated_host_listings_count  availability_365  \\\n",
       "0               1.93                               1               255   \n",
       "1               2.53                               4               361   \n",
       "2               3.13                               2                15   \n",
       "3               2.89                               4               357   \n",
       "4               0.17                               2               179   \n",
       "\n",
       "   number_of_reviews_ltm  license  \n",
       "0                     48      NaN  \n",
       "1                     15      NaN  \n",
       "2                     28      NaN  \n",
       "3                     11      NaN  \n",
       "4                      0      NaN  "
      ]
     },
     "execution_count": 7,
     "metadata": {},
     "output_type": "execute_result"
    }
   ],
   "source": [
    "df_train.head()"
   ]
  },
  {
   "cell_type": "code",
   "execution_count": 15,
   "metadata": {},
   "outputs": [],
   "source": [
    "# Feature selection\n",
    "numerical = ['latitude', 'longitude', 'minimum_nights', 'number_of_reviews', 'reviews_per_month', 'availability_365']\n",
    "categorical = ['room_type', 'neighbourhood']\n",
    "    \n",
    "dv = DictVectorizer()\n",
    "\n",
    "train_dicts = df_train[categorical + numerical].to_dict(orient='records')\n",
    "X_train = dv.fit_transform(train_dicts)\n",
    "\n",
    "val_dicts = df_val[categorical + numerical].to_dict(orient='records')\n",
    "X_val = dv.transform(val_dicts)"
   ]
  },
  {
   "cell_type": "code",
   "execution_count": 16,
   "metadata": {},
   "outputs": [
    {
     "data": {
      "text/plain": [
       "{'room_type': 'Entire home/apt',\n",
       " 'neighbourhood': 'SIXTH WARD',\n",
       " 'latitude': 42.65222,\n",
       " 'longitude': -73.76724,\n",
       " 'minimum_nights': 2,\n",
       " 'number_of_reviews': 302,\n",
       " 'reviews_per_month': 2.53,\n",
       " 'availability_365': 253}"
      ]
     },
     "execution_count": 16,
     "metadata": {},
     "output_type": "execute_result"
    }
   ],
   "source": [
    "val_dicts[1]"
   ]
  },
  {
   "cell_type": "code",
   "execution_count": 17,
   "metadata": {},
   "outputs": [],
   "source": [
    "target = \"price\"\n",
    "\n",
    "y_train = df_train[target].values\n",
    "y_val = df_val[target].values"
   ]
  },
  {
   "cell_type": "code",
   "execution_count": 18,
   "metadata": {},
   "outputs": [
    {
     "data": {
      "text/plain": [
       "1.6989700043360187"
      ]
     },
     "execution_count": 18,
     "metadata": {},
     "output_type": "execute_result"
    }
   ],
   "source": [
    "y_train[0]"
   ]
  },
  {
   "cell_type": "markdown",
   "metadata": {},
   "source": [
    "### LinearRegression"
   ]
  },
  {
   "cell_type": "code",
   "execution_count": 20,
   "metadata": {},
   "outputs": [
    {
     "name": "stdout",
     "output_type": "stream",
     "text": [
      "RMSE:  0.16307290098131869\n"
     ]
    }
   ],
   "source": [
    "# Create a pipeline with DictVectorizer and LinearRegression\n",
    "pipeline = Pipeline([\n",
    "    ('dv', DictVectorizer()),           # Converts dictionaries into feature matrices\n",
    "    ('lr', LinearRegression())         # Linear regression model\n",
    "])\n",
    "\n",
    "pipeline.fit(train_dicts, y_train)\n",
    "y_pred = pipeline.predict(val_dicts)\n",
    "rmse = root_mean_squared_error(y_val, y_pred)\n",
    "print(\"RMSE: \", rmse)"
   ]
  },
  {
   "cell_type": "code",
   "execution_count": 13,
   "metadata": {},
   "outputs": [
    {
     "data": {
      "image/png": "[encoded data removed]",
      "text/plain": [
       "<Figure size 640x480 with 1 Axes>"
      ]
     },
     "metadata": {},
     "output_type": "display_data"
    }
   ],
   "source": [
    "sns.distplot(y_pred, label='prediction')\n",
    "sns.distplot(y_train, label='actual')\n",
    "\n",
    "plt.legend()\n",
    "plt.show()"
   ]
  },
  {
   "cell_type": "code",
   "execution_count": 14,
   "metadata": {},
   "outputs": [],
   "source": [
    "# with open('models/lin_reg.bin', 'wb') as f_out:\n",
    "#     pickle.dump((dv, lr), f_out)"
   ]
  },
  {
   "cell_type": "markdown",
   "metadata": {},
   "source": [
    "### Lasso"
   ]
  },
  {
   "cell_type": "code",
   "execution_count": 21,
   "metadata": {},
   "outputs": [
    {
     "name": "stdout",
     "output_type": "stream",
     "text": [
      "RMSE:  0.16806515990534673\n"
     ]
    }
   ],
   "source": [
    "# Create a pipeline with DictVectorizer and LinearRegression\n",
    "pipeline = Pipeline([\n",
    "    ('dv', DictVectorizer()),           # Converts dictionaries into feature matrices\n",
    "    ('lr', Lasso(0.01))         # Linear regression model\n",
    "])\n",
    "\n",
    "pipeline.fit(train_dicts, y_train)\n",
    "y_pred = pipeline.predict(val_dicts)\n",
    "rmse = root_mean_squared_error(y_val, y_pred)\n",
    "print(\"RMSE: \", rmse)"
   ]
  },
  {
   "cell_type": "code",
   "execution_count": 22,
   "metadata": {},
   "outputs": [
    {
     "data": {
      "image/png": "[encoded data removed]",
      "text/plain": [
       "<Figure size 640x480 with 1 Axes>"
      ]
     },
     "metadata": {},
     "output_type": "display_data"
    }
   ],
   "source": [
    "sns.distplot(y_pred, label='prediction')\n",
    "sns.distplot(y_train, label='actual')\n",
    "\n",
    "plt.legend()\n",
    "plt.show()"
   ]
  },
  {
   "cell_type": "code",
   "execution_count": null,
   "metadata": {},
   "outputs": [],
   "source": []
  }
 ],
 "metadata": {
  "kernelspec": {
   "display_name": "cuda",
   "language": "python",
   "name": "python3"
  },
  "language_info": {
   "codemirror_mode": {
    "name": "ipython",
    "version": 3
   },
   "file_extension": ".py",
   "mimetype": "text/x-python",
   "name": "python",
   "nbconvert_exporter": "python",
   "pygments_lexer": "ipython3",
   "version": "3.12.5"
  }
 },
 "nbformat": 4,
 "nbformat_minor": 2
}
