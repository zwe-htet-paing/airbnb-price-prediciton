{
 "cells": [
  {
   "cell_type": "markdown",
   "metadata": {},
   "source": [
    "### Import Libraries"
   ]
  },
  {
   "cell_type": "code",
   "execution_count": 1,
   "metadata": {},
   "outputs": [],
   "source": [
    "import pandas as pd\n",
    "import numpy as np\n",
    "\n",
    "import pickle\n",
    "\n",
    "import seaborn as sns\n",
    "import matplotlib.pyplot as plt\n",
    "\n",
    "from sklearn.feature_extraction import DictVectorizer\n",
    "from sklearn.linear_model import LinearRegression, Lasso\n",
    "from sklearn.pipeline import Pipeline\n",
    "from sklearn.metrics import root_mean_squared_error\n",
    "\n",
    "import warnings\n",
    "warnings.filterwarnings(\"ignore\")"
   ]
  },
  {
   "cell_type": "code",
   "execution_count": 2,
   "metadata": {},
   "outputs": [],
   "source": [
    "# !pwd"
   ]
  },
  {
   "cell_type": "markdown",
   "metadata": {},
   "source": [
    "### Setup MLFlow\n",
    "\n",
    "Create local aritfact store:\n",
    "```bash\n",
    "mkdir -p $(pwd)/../mlruns_artifacts\n",
    "```\n",
    "\n",
    "Using UI : \n",
    "```bash \n",
    "mlflow ui --backend-store-uri sqlite:///mlflow.db\n",
    "```\n",
    "\n",
    "Using server : \n",
    "```bash\n",
    "mlflow server \\\n",
    "--backend-store-uri sqlite:///mlflow.db \\\n",
    "--default-artifact-root file:///$(pwd)/../mlruns_artifacts \n",
    "``` \n"
   ]
  },
  {
   "cell_type": "code",
   "execution_count": 3,
   "metadata": {},
   "outputs": [
    {
     "name": "stderr",
     "output_type": "stream",
     "text": [
      "2024/11/23 17:33:43 INFO mlflow.tracking.fluent: Experiment with name 'airbnb-experiment' does not exist. Creating a new experiment.\n"
     ]
    },
    {
     "name": "stdout",
     "output_type": "stream",
     "text": [
      "Tracking URI: 'http://127.0.0.1:5000'\n"
     ]
    }
   ],
   "source": [
    "import mlflow\n",
    "\n",
    "# mlflow.set_tracking_uri(\"sqlite:///mlflow.db\") # UI tracking\n",
    "mlflow.set_tracking_uri(\"http://127.0.0.1:5000\") # server tracking\n",
    "\n",
    "print(f\"Tracking URI: '{mlflow.get_tracking_uri()}'\")\n",
    "mlflow.set_experiment(\"airbnb-experiment\")\n",
    "mlflow.autolog(disable=True)"
   ]
  },
  {
   "cell_type": "code",
   "execution_count": 4,
   "metadata": {},
   "outputs": [
    {
     "data": {
      "text/plain": [
       "[<Experiment: artifact_location='file:////home/oliver/Desktop/Workspace/Projects/airbnb-price-prediciton/experiment-tracking/../mlruns_artifacts/1', creation_time=1732358023753, experiment_id='1', last_update_time=1732358023753, lifecycle_stage='active', name='airbnb-experiment', tags={}>,\n",
       " <Experiment: artifact_location='file:////home/oliver/Desktop/Workspace/Projects/airbnb-price-prediciton/experiment-tracking/../mlruns_artifacts/0', creation_time=1732357512457, experiment_id='0', last_update_time=1732357512457, lifecycle_stage='active', name='Default', tags={}>]"
      ]
     },
     "execution_count": 4,
     "metadata": {},
     "output_type": "execute_result"
    }
   ],
   "source": [
    "mlflow.search_experiments()"
   ]
  },
  {
   "cell_type": "markdown",
   "metadata": {},
   "source": [
    "### Load Data"
   ]
  },
  {
   "cell_type": "code",
   "execution_count": 5,
   "metadata": {},
   "outputs": [],
   "source": [
    "def read_dataframe(filename):\n",
    "    df = pd.read_csv(filename)\n",
    "    \n",
    "    # Handle missing values\n",
    "    df = df.dropna(subset=['price'])\n",
    "    df['reviews_per_month'] = df['reviews_per_month'].fillna(0)\n",
    "    df['last_review'] = pd.to_datetime(df['last_review'])\n",
    "    \n",
    "    # Apply a log10 transformation to the target column\n",
    "    df['price'] = np.log10(df['price'])\n",
    "\n",
    "    return df"
   ]
  },
  {
   "cell_type": "code",
   "execution_count": 6,
   "metadata": {},
   "outputs": [],
   "source": [
    "def preprocess(df):\n",
    "    # Calculate IQR\n",
    "    Q1 = df['price'].quantile(0.25)  # First quartile (25th percentile)\n",
    "    Q3 = df['price'].quantile(0.75)  # Third quartile (75th percentile)\n",
    "    IQR = Q3 - Q1  # Interquartile range\n",
    "\n",
    "    # Define outlier boundaries\n",
    "    lower_bound = Q1 - 1.5 * IQR\n",
    "    upper_bound = Q3 + 1.5 * IQR\n",
    "    \n",
    "    # Remove outliers\n",
    "    df = df[(df['price'] >= lower_bound) & (df['price'] <= upper_bound)].reset_index(drop=True)\n",
    "    \n",
    "    return df"
   ]
  },
  {
   "cell_type": "code",
   "execution_count": 7,
   "metadata": {},
   "outputs": [],
   "source": [
    "df_train = read_dataframe(\"../datasets/airbnb-listings-may.csv\")\n",
    "df_val = read_dataframe(\"../datasets/airbnb-listings-june.csv\")"
   ]
  },
  {
   "cell_type": "code",
   "execution_count": 8,
   "metadata": {},
   "outputs": [],
   "source": [
    "df_train = preprocess(df_train)\n",
    "df_val = preprocess(df_val)"
   ]
  },
  {
   "cell_type": "code",
   "execution_count": 9,
   "metadata": {},
   "outputs": [
    {
     "data": {
      "text/plain": [
       "(328, 357)"
      ]
     },
     "execution_count": 9,
     "metadata": {},
     "output_type": "execute_result"
    }
   ],
   "source": [
    "len(df_train), len(df_val)"
   ]
  },
  {
   "cell_type": "code",
   "execution_count": 10,
   "metadata": {},
   "outputs": [],
   "source": [
    "# Feature selection\n",
    "numerical = ['latitude', 'longitude', 'minimum_nights', 'number_of_reviews', 'reviews_per_month', 'availability_365']\n",
    "categorical = ['room_type', 'neighbourhood']\n",
    "\n",
    "train_dicts = df_train[categorical + numerical].to_dict(orient='records')\n",
    "val_dicts = df_val[categorical + numerical].to_dict(orient='records')\n",
    "\n",
    "# dv = DictVectorizer()\n",
    "# X_train = dv.fit_transform(train_dicts)\n",
    "# X_val = dv.transform(val_dicts)"
   ]
  },
  {
   "cell_type": "code",
   "execution_count": 11,
   "metadata": {},
   "outputs": [],
   "source": [
    "target = \"price\"\n",
    "y_train = df_train[target].values\n",
    "y_val = df_val[target].values"
   ]
  },
  {
   "cell_type": "markdown",
   "metadata": {},
   "source": [
    "### LinearRegression"
   ]
  },
  {
   "cell_type": "code",
   "execution_count": 12,
   "metadata": {},
   "outputs": [
    {
     "name": "stdout",
     "output_type": "stream",
     "text": [
      "RMSE:  0.16307290098131869\n"
     ]
    }
   ],
   "source": [
    "# Create a pipeline with DictVectorizer and LinearRegression\n",
    "pipeline = Pipeline([\n",
    "    ('dv', DictVectorizer()),\n",
    "    ('lr', LinearRegression())\n",
    "])\n",
    "\n",
    "pipeline.fit(train_dicts, y_train)\n",
    "y_pred = pipeline.predict(val_dicts)\n",
    "rmse = root_mean_squared_error(y_val, y_pred)\n",
    "print(\"RMSE: \", rmse)"
   ]
  },
  {
   "cell_type": "code",
   "execution_count": 13,
   "metadata": {},
   "outputs": [
    {
     "data": {
      "image/png": "[encoded data removed]",
      "text/plain": [
       "<Figure size 640x480 with 1 Axes>"
      ]
     },
     "metadata": {},
     "output_type": "display_data"
    }
   ],
   "source": [
    "sns.distplot(y_pred, label='prediction')\n",
    "sns.distplot(y_train, label='actual')\n",
    "\n",
    "plt.legend()\n",
    "plt.show()"
   ]
  },
  {
   "cell_type": "code",
   "execution_count": 14,
   "metadata": {},
   "outputs": [
    {
     "name": "stdout",
     "output_type": "stream",
     "text": [
      "🏃 View run spiffy-snake-463 at: http://127.0.0.1:5000/#/experiments/1/runs/e35b2d5b79294da9b8dcec0ca81b28be\n",
      "🧪 View experiment at: http://127.0.0.1:5000/#/experiments/1\n"
     ]
    }
   ],
   "source": [
    "mlflow.sklearn.autolog(disable=True)\n",
    "\n",
    "with mlflow.start_run():\n",
    "\n",
    "    mlflow.set_tag(\"developer\", \"oliver\")\n",
    "    mlflow.log_param(\"train-data-path\", \"../datasets/airbnb-listings-may.csv\")\n",
    "    mlflow.log_param(\"val-data-path\", \"../datasets/airbnb-listings-june.csv\")\n",
    "    mlflow.log_param(\"model_name\", \"Linear Regression\")  # Log model name\n",
    "    \n",
    "    pipeline = Pipeline([\n",
    "        ('dv', DictVectorizer()),\n",
    "        ('lr', LinearRegression())\n",
    "    ])\n",
    "\n",
    "    pipeline.fit(train_dicts, y_train)\n",
    "    y_pred = pipeline.predict(val_dicts)\n",
    "    rmse = root_mean_squared_error(y_val, y_pred)\n",
    "    mlflow.log_metric(\"rmse\", rmse)\n",
    "    \n",
    "    # with open(\"../models/preprocessor.b\", \"wb\") as f_out:\n",
    "    #     pickle.dump(dv, f_out)\n",
    "    # mlflow.log_artifact(\"../models/preprocessor.b\", artifact_path=\"preprocessor\")\n",
    "\n",
    "    with open(\"../models/lin_reg.bin\", \"wb\") as f_out:\n",
    "        pickle.dump(pipeline, f_out)\n",
    "    mlflow.log_artifact(local_path=\"../models/lin_reg.bin\", artifact_path=\"models\")"
   ]
  },
  {
   "cell_type": "markdown",
   "metadata": {},
   "source": [
    "### LASSO"
   ]
  },
  {
   "cell_type": "code",
   "execution_count": 15,
   "metadata": {},
   "outputs": [
    {
     "name": "stdout",
     "output_type": "stream",
     "text": [
      "🏃 View run luminous-wasp-850 at: http://127.0.0.1:5000/#/experiments/1/runs/a92a8636600e45df96f608cfc40978de\n",
      "🧪 View experiment at: http://127.0.0.1:5000/#/experiments/1\n"
     ]
    }
   ],
   "source": [
    "mlflow.sklearn.autolog(disable=True)\n",
    "\n",
    "with mlflow.start_run():\n",
    "\n",
    "    mlflow.set_tag(\"developer\", \"oliver\")\n",
    "    mlflow.log_param(\"train-data-path\", \"../datasets/airbnb-listings-may.csv\")\n",
    "    mlflow.log_param(\"val-data-path\", \"../datasets/airbnb-listings-june.csv\")\n",
    "    mlflow.log_param(\"model_name\", \"Lasso\")  # Log model name\n",
    "    \n",
    "    params = {\n",
    "        'alpha': 0.1,\n",
    "    }\n",
    "    mlflow.log_params(params)\n",
    "    \n",
    "    pipeline = Pipeline([\n",
    "        ('dv', DictVectorizer()),\n",
    "        ('lr', Lasso(**params))\n",
    "    ])\n",
    "\n",
    "    pipeline.fit(train_dicts, y_train)\n",
    "    y_pred = pipeline.predict(val_dicts)\n",
    "    \n",
    "    rmse = root_mean_squared_error(y_val, y_pred)\n",
    "    mlflow.log_metric(\"rmse\", rmse)\n",
    "    \n",
    "    # with open(\"../models/preprocessor.b\", \"wb\") as f_out:\n",
    "    #     pickle.dump(dv, f_out)\n",
    "    # mlflow.log_artifact(\"../models/preprocessor.b\", artifact_path=\"preprocessor\")\n",
    "\n",
    "    with open(\"../models/lasso_reg.bin\", \"wb\") as f_out:\n",
    "        pickle.dump(pipeline, f_out)\n",
    "    mlflow.log_artifact(local_path=\"../models/lasso_reg.bin\", artifact_path=\"models\")"
   ]
  },
  {
   "cell_type": "markdown",
   "metadata": {},
   "source": [
    "### XGBoost"
   ]
  },
  {
   "cell_type": "code",
   "execution_count": 16,
   "metadata": {},
   "outputs": [],
   "source": [
    "# !pip install hyperopt"
   ]
  },
  {
   "cell_type": "code",
   "execution_count": 17,
   "metadata": {},
   "outputs": [],
   "source": [
    "import xgboost as xgb\n",
    "from xgboost import XGBRegressor\n",
    "\n",
    "from hyperopt import fmin, tpe, hp, STATUS_OK, Trials\n",
    "from hyperopt.pyll import scope"
   ]
  },
  {
   "cell_type": "code",
   "execution_count": 18,
   "metadata": {},
   "outputs": [],
   "source": [
    "dv = DictVectorizer()\n",
    "X_train = dv.fit_transform(train_dicts)\n",
    "X_val = dv.transform(val_dicts)"
   ]
  },
  {
   "cell_type": "code",
   "execution_count": 19,
   "metadata": {},
   "outputs": [],
   "source": [
    "train = xgb.DMatrix(X_train, label=y_train)\n",
    "valid = xgb.DMatrix(X_val, label=y_val)"
   ]
  },
  {
   "cell_type": "code",
   "execution_count": 20,
   "metadata": {},
   "outputs": [],
   "source": [
    "# def objective(params):\n",
    "#     with mlflow.start_run():\n",
    "#         mlflow.set_tag(\"model\", \"xgboost\")\n",
    "#         mlflow.log_params(params)\n",
    "#         booster = xgb.train(\n",
    "#             params=params,\n",
    "#             dtrain=train,\n",
    "#             num_boost_round=1000,\n",
    "#             evals=[(valid, 'validation')],\n",
    "#             early_stopping_rounds=50\n",
    "#         )\n",
    "#         y_pred = booster.predict(valid)\n",
    "#         rmse = root_mean_squared_error(y_val, y_pred)\n",
    "#         mlflow.log_metric(\"rmse\", rmse)\n",
    "\n",
    "#     return {'loss': rmse, 'status': STATUS_OK}\n",
    "\n",
    "def objective(params):\n",
    "    booster = xgb.train(\n",
    "            params=params,\n",
    "            dtrain=train,\n",
    "            num_boost_round=1000,\n",
    "            evals=[(valid, 'validation')],\n",
    "            early_stopping_rounds=50\n",
    "        )\n",
    "    y_pred = booster.predict(valid)\n",
    "    rmse = root_mean_squared_error(y_val, y_pred)\n",
    "    return {'loss': rmse, 'status': STATUS_OK}"
   ]
  },
  {
   "cell_type": "code",
   "execution_count": 21,
   "metadata": {},
   "outputs": [
    {
     "name": "stdout",
     "output_type": "stream",
     "text": [
      "[0]\tvalidation-rmse:0.18225                          \n",
      "[1]\tvalidation-rmse:0.17526                          \n",
      "[2]\tvalidation-rmse:0.16926                          \n",
      "[3]\tvalidation-rmse:0.16411                          \n",
      "[4]\tvalidation-rmse:0.15953                          \n",
      "[5]\tvalidation-rmse:0.15620                          \n",
      "[6]\tvalidation-rmse:0.15241                          \n",
      "[7]\tvalidation-rmse:0.14920                          \n",
      "[8]\tvalidation-rmse:0.14624                          \n",
      "[9]\tvalidation-rmse:0.14394                          \n",
      "[10]\tvalidation-rmse:0.14146                         \n",
      "[11]\tvalidation-rmse:0.13927                         \n",
      "[12]\tvalidation-rmse:0.13737                         \n",
      "[13]\tvalidation-rmse:0.13574                         \n",
      "[14]\tvalidation-rmse:0.13402                         \n",
      "[15]\tvalidation-rmse:0.13228                         \n",
      "[16]\tvalidation-rmse:0.13052                         \n",
      "[17]\tvalidation-rmse:0.12884                         \n",
      "[18]\tvalidation-rmse:0.12758                         \n",
      "[19]\tvalidation-rmse:0.12635                         \n",
      "[20]\tvalidation-rmse:0.12465                         \n",
      "[21]\tvalidation-rmse:0.12400                         \n",
      "[22]\tvalidation-rmse:0.12295                         \n",
      "[23]\tvalidation-rmse:0.12240                         \n",
      "[24]\tvalidation-rmse:0.12187                         \n",
      "[25]\tvalidation-rmse:0.12139                         \n",
      "[26]\tvalidation-rmse:0.12112                         \n",
      "[27]\tvalidation-rmse:0.12057                         \n",
      "[28]\tvalidation-rmse:0.11995                         \n",
      "[29]\tvalidation-rmse:0.11970                         \n",
      "[30]\tvalidation-rmse:0.11930                         \n",
      "[31]\tvalidation-rmse:0.11876                         \n",
      "[32]\tvalidation-rmse:0.11798                         \n",
      "[33]\tvalidation-rmse:0.11738                         \n",
      "[34]\tvalidation-rmse:0.11713                         \n",
      "[35]\tvalidation-rmse:0.11672                         \n",
      "[36]\tvalidation-rmse:0.11678                         \n",
      "[37]\tvalidation-rmse:0.11633                         \n",
      "[38]\tvalidation-rmse:0.11613                         \n",
      "[39]\tvalidation-rmse:0.11567                         \n",
      "[40]\tvalidation-rmse:0.11557                         \n",
      "[41]\tvalidation-rmse:0.11542                         \n",
      "[42]\tvalidation-rmse:0.11517                         \n",
      "[43]\tvalidation-rmse:0.11470                         \n",
      "[44]\tvalidation-rmse:0.11430                         \n",
      "[45]\tvalidation-rmse:0.11392                         \n",
      "[46]\tvalidation-rmse:0.11357                         \n",
      "[47]\tvalidation-rmse:0.11318                         \n",
      "[48]\tvalidation-rmse:0.11287                         \n",
      "[49]\tvalidation-rmse:0.11255                         \n",
      "[50]\tvalidation-rmse:0.11223                         \n",
      "[51]\tvalidation-rmse:0.11198                         \n",
      "[52]\tvalidation-rmse:0.11177                         \n",
      "[53]\tvalidation-rmse:0.11152                         \n",
      "[54]\tvalidation-rmse:0.11133                         \n",
      "[55]\tvalidation-rmse:0.11112                         \n",
      "[56]\tvalidation-rmse:0.11093                         \n",
      "[57]\tvalidation-rmse:0.11078                         \n",
      "[58]\tvalidation-rmse:0.11057                         \n",
      "[59]\tvalidation-rmse:0.11045                         \n",
      "[60]\tvalidation-rmse:0.11028                         \n",
      "[61]\tvalidation-rmse:0.11018                         \n",
      "[62]\tvalidation-rmse:0.11012                         \n",
      "[63]\tvalidation-rmse:0.11010                         \n",
      "[64]\tvalidation-rmse:0.11005                         \n",
      "[65]\tvalidation-rmse:0.10991                         \n",
      "[66]\tvalidation-rmse:0.10980                         \n",
      "[67]\tvalidation-rmse:0.10970                         \n",
      "[68]\tvalidation-rmse:0.10961                         \n",
      "[69]\tvalidation-rmse:0.10953                         \n",
      "[70]\tvalidation-rmse:0.10942                         \n",
      "[71]\tvalidation-rmse:0.10937                         \n",
      "[72]\tvalidation-rmse:0.10936                         \n",
      "[73]\tvalidation-rmse:0.10929                         \n",
      "[74]\tvalidation-rmse:0.10928                         \n",
      "[75]\tvalidation-rmse:0.10918                         \n",
      "[76]\tvalidation-rmse:0.10916                         \n",
      "[77]\tvalidation-rmse:0.10902                         \n",
      "[78]\tvalidation-rmse:0.10889                         \n",
      "[79]\tvalidation-rmse:0.10880                         \n",
      "[80]\tvalidation-rmse:0.10877                         \n",
      "[81]\tvalidation-rmse:0.10877                         \n",
      "[82]\tvalidation-rmse:0.10872                         \n",
      "[83]\tvalidation-rmse:0.10859                         \n",
      "[84]\tvalidation-rmse:0.10854                         \n",
      "[85]\tvalidation-rmse:0.10839                         \n",
      "[86]\tvalidation-rmse:0.10834                         \n",
      "[87]\tvalidation-rmse:0.10828                         \n",
      "[88]\tvalidation-rmse:0.10824                         \n",
      "[89]\tvalidation-rmse:0.10827                         \n",
      "[90]\tvalidation-rmse:0.10823                         \n",
      "[91]\tvalidation-rmse:0.10821                         \n",
      "[92]\tvalidation-rmse:0.10818                         \n",
      "[93]\tvalidation-rmse:0.10809                         \n",
      "[94]\tvalidation-rmse:0.10805                         \n",
      "[95]\tvalidation-rmse:0.10796                         \n",
      "[96]\tvalidation-rmse:0.10794                         \n",
      "[97]\tvalidation-rmse:0.10794                         \n",
      "[98]\tvalidation-rmse:0.10794                         \n",
      "[99]\tvalidation-rmse:0.10794                         \n",
      "[100]\tvalidation-rmse:0.10794                        \n",
      "[101]\tvalidation-rmse:0.10794                        \n",
      "[102]\tvalidation-rmse:0.10794                        \n",
      "[103]\tvalidation-rmse:0.10794                        \n",
      "[104]\tvalidation-rmse:0.10794                        \n",
      "[105]\tvalidation-rmse:0.10794                        \n",
      "[106]\tvalidation-rmse:0.10794                        \n",
      "[107]\tvalidation-rmse:0.10794                        \n",
      "[108]\tvalidation-rmse:0.10794                        \n",
      "[109]\tvalidation-rmse:0.10794                        \n",
      "[110]\tvalidation-rmse:0.10794                        \n",
      "[111]\tvalidation-rmse:0.10794                        \n",
      "[112]\tvalidation-rmse:0.10794                        \n",
      "[113]\tvalidation-rmse:0.10794                        \n",
      "[114]\tvalidation-rmse:0.10794                        \n",
      "[115]\tvalidation-rmse:0.10794                        \n",
      "[116]\tvalidation-rmse:0.10794                        \n",
      "[117]\tvalidation-rmse:0.10794                        \n",
      "[118]\tvalidation-rmse:0.10794                        \n",
      "[119]\tvalidation-rmse:0.10794                        \n",
      "[120]\tvalidation-rmse:0.10794                        \n",
      "[121]\tvalidation-rmse:0.10794                        \n",
      "[122]\tvalidation-rmse:0.10794                        \n",
      "[123]\tvalidation-rmse:0.10794                        \n",
      "[124]\tvalidation-rmse:0.10794                        \n",
      "[125]\tvalidation-rmse:0.10794                        \n",
      "[126]\tvalidation-rmse:0.10794                        \n",
      "[127]\tvalidation-rmse:0.10794                        \n",
      "[128]\tvalidation-rmse:0.10794                        \n",
      "[129]\tvalidation-rmse:0.10794                        \n",
      "[130]\tvalidation-rmse:0.10794                        \n",
      "[131]\tvalidation-rmse:0.10794                        \n",
      "[132]\tvalidation-rmse:0.10794                        \n",
      "[133]\tvalidation-rmse:0.10794                        \n",
      "[134]\tvalidation-rmse:0.10794                        \n",
      "[135]\tvalidation-rmse:0.10794                        \n",
      "[136]\tvalidation-rmse:0.10794                        \n",
      "[137]\tvalidation-rmse:0.10794                        \n",
      "[138]\tvalidation-rmse:0.10794                        \n",
      "[139]\tvalidation-rmse:0.10794                        \n",
      "[140]\tvalidation-rmse:0.10794                        \n",
      "[141]\tvalidation-rmse:0.10794                        \n",
      "[142]\tvalidation-rmse:0.10794                        \n",
      "[143]\tvalidation-rmse:0.10794                        \n",
      "[144]\tvalidation-rmse:0.10794                        \n",
      "[145]\tvalidation-rmse:0.10794                        \n",
      "[0]\tvalidation-rmse:0.12152                                                     \n",
      "[1]\tvalidation-rmse:0.11585                                                     \n",
      "[2]\tvalidation-rmse:0.11384                                                     \n",
      "[3]\tvalidation-rmse:0.11306                                                     \n",
      "[4]\tvalidation-rmse:0.11302                                                     \n",
      "[5]\tvalidation-rmse:0.11293                                                     \n",
      "[6]\tvalidation-rmse:0.11301                                                     \n",
      "[7]\tvalidation-rmse:0.11306                                                     \n",
      "[8]\tvalidation-rmse:0.11305                                                     \n",
      "[9]\tvalidation-rmse:0.11303                                                     \n",
      "[10]\tvalidation-rmse:0.11303                                                    \n",
      "[11]\tvalidation-rmse:0.11297                                                    \n",
      "[12]\tvalidation-rmse:0.11300                                                    \n",
      "[13]\tvalidation-rmse:0.11298                                                    \n",
      "[14]\tvalidation-rmse:0.11298                                                    \n",
      "[15]\tvalidation-rmse:0.11298                                                    \n",
      "[16]\tvalidation-rmse:0.11298                                                    \n",
      "[17]\tvalidation-rmse:0.11298                                                    \n",
      "[18]\tvalidation-rmse:0.11298                                                    \n",
      "[19]\tvalidation-rmse:0.11298                                                    \n",
      "[20]\tvalidation-rmse:0.11298                                                    \n",
      "[21]\tvalidation-rmse:0.11298                                                    \n",
      "[22]\tvalidation-rmse:0.11298                                                    \n",
      "[23]\tvalidation-rmse:0.11298                                                    \n",
      "[24]\tvalidation-rmse:0.11298                                                    \n",
      "[25]\tvalidation-rmse:0.11298                                                    \n",
      "[26]\tvalidation-rmse:0.11298                                                    \n",
      "[27]\tvalidation-rmse:0.11298                                                    \n",
      "[28]\tvalidation-rmse:0.11298                                                    \n",
      "[29]\tvalidation-rmse:0.11298                                                    \n",
      "[30]\tvalidation-rmse:0.11298                                                    \n",
      "[31]\tvalidation-rmse:0.11298                                                    \n",
      "[32]\tvalidation-rmse:0.11298                                                    \n",
      "[33]\tvalidation-rmse:0.11298                                                    \n",
      "[34]\tvalidation-rmse:0.11298                                                    \n",
      "[35]\tvalidation-rmse:0.11298                                                    \n",
      "[36]\tvalidation-rmse:0.11298                                                    \n",
      "[37]\tvalidation-rmse:0.11298                                                    \n",
      "[38]\tvalidation-rmse:0.11298                                                    \n",
      "[39]\tvalidation-rmse:0.11298                                                    \n",
      "[40]\tvalidation-rmse:0.11298                                                    \n",
      "[41]\tvalidation-rmse:0.11298                                                    \n",
      "[42]\tvalidation-rmse:0.11298                                                    \n",
      "[43]\tvalidation-rmse:0.11298                                                    \n",
      "[44]\tvalidation-rmse:0.11298                                                    \n",
      "[45]\tvalidation-rmse:0.11298                                                    \n",
      "[46]\tvalidation-rmse:0.11298                                                    \n",
      "[47]\tvalidation-rmse:0.11298                                                    \n",
      "[48]\tvalidation-rmse:0.11298                                                    \n",
      "[49]\tvalidation-rmse:0.11298                                                    \n",
      "[50]\tvalidation-rmse:0.11298                                                    \n",
      "[51]\tvalidation-rmse:0.11298                                                    \n",
      "[52]\tvalidation-rmse:0.11298                                                    \n",
      "[53]\tvalidation-rmse:0.11298                                                    \n",
      "[54]\tvalidation-rmse:0.11298                                                    \n",
      "100%|██████████| 2/2 [00:02<00:00,  1.14s/trial, best loss: 0.10793888366156812]\n",
      "Best params:  {'learning_rate': 0.09963606131411873, 'max_depth': 34.0, 'min_child_weight': 7.427338726013623, 'reg_alpha': 0.28709926039303135, 'reg_lambda': 0.04135599882156146}\n"
     ]
    }
   ],
   "source": [
    "search_space = {\n",
    "    'max_depth': scope.int(hp.quniform('max_depth', 4, 100, 1)),\n",
    "    'learning_rate': hp.loguniform('learning_rate', -3, 0),\n",
    "    'reg_alpha': hp.loguniform('reg_alpha', -5, -1),\n",
    "    'reg_lambda': hp.loguniform('reg_lambda', -6, -1),\n",
    "    'min_child_weight': hp.loguniform('min_child_weight', -1, 3),\n",
    "    'objective': 'reg:linear',\n",
    "    'seed': 42\n",
    "}\n",
    "\n",
    "best_result = fmin(\n",
    "    fn=objective,\n",
    "    space=search_space,\n",
    "    algo=tpe.suggest,\n",
    "    max_evals=2,\n",
    "    trials=Trials()\n",
    ")\n",
    "\n",
    "print(\"Best params: \", best_result)"
   ]
  },
  {
   "cell_type": "code",
   "execution_count": 22,
   "metadata": {},
   "outputs": [
    {
     "name": "stdout",
     "output_type": "stream",
     "text": [
      "[0]\tvalidation-rmse:0.18225\n",
      "[1]\tvalidation-rmse:0.17526\n",
      "[2]\tvalidation-rmse:0.16926\n",
      "[3]\tvalidation-rmse:0.16411\n",
      "[4]\tvalidation-rmse:0.15953\n",
      "[5]\tvalidation-rmse:0.15620\n",
      "[6]\tvalidation-rmse:0.15241\n",
      "[7]\tvalidation-rmse:0.14920\n",
      "[8]\tvalidation-rmse:0.14624\n",
      "[9]\tvalidation-rmse:0.14394\n"
     ]
    },
    {
     "name": "stderr",
     "output_type": "stream",
     "text": [
      "2024/11/23 17:33:49 WARNING mlflow.models.model: Model logged without a signature and input example. Please set `input_example` parameter when logging the model to auto infer the model signature.\n"
     ]
    },
    {
     "name": "stdout",
     "output_type": "stream",
     "text": [
      "🏃 View run selective-trout-807 at: http://127.0.0.1:5000/#/experiments/1/runs/7b5744464f544451aee4a9308d1971ad\n",
      "🧪 View experiment at: http://127.0.0.1:5000/#/experiments/1\n"
     ]
    }
   ],
   "source": [
    "mlflow.xgboost.autolog(disable=True)\n",
    "\n",
    "with mlflow.start_run():\n",
    "    \n",
    "    mlflow.set_tag(\"developer\", \"oliver\")\n",
    "    mlflow.log_param(\"train-data-path\", \"../datasets/airbnb-listings-may.csv\")\n",
    "    mlflow.log_param(\"val-data-path\", \"../datasets/airbnb-listings-june.csv\")\n",
    "    \n",
    "    train = xgb.DMatrix(X_train, label=y_train)\n",
    "    valid = xgb.DMatrix(X_val, label=y_val)\n",
    "\n",
    "    best_params = {\n",
    "        **best_result,\n",
    "        'objective': 'reg:linear',\n",
    "        'seed': 42\n",
    "    }\n",
    "\n",
    "    best_params['max_depth'] = int(best_params['max_depth'])\n",
    "\n",
    "    mlflow.log_params(best_params)\n",
    "\n",
    "    booster = xgb.train(\n",
    "        params=best_params,\n",
    "        dtrain=train,\n",
    "        num_boost_round=10, # 1000\n",
    "        evals=[(valid, 'validation')],\n",
    "        early_stopping_rounds=10 # 50\n",
    "    )\n",
    "\n",
    "    y_pred = booster.predict(valid)\n",
    "    rmse = root_mean_squared_error(y_val, y_pred)\n",
    "    mlflow.log_metric(\"rmse\", rmse)\n",
    "\n",
    "    with open(\"../models/preprocessor.b\", \"wb\") as f_out:\n",
    "        pickle.dump(dv, f_out)\n",
    "        \n",
    "    mlflow.log_artifact(\"../models/preprocessor.b\", artifact_path=\"preprocessor\")\n",
    "    mlflow.xgboost.log_model(booster, artifact_path=\"models\")"
   ]
  },
  {
   "cell_type": "markdown",
   "metadata": {},
   "source": [
    "### Other"
   ]
  },
  {
   "cell_type": "code",
   "execution_count": 23,
   "metadata": {},
   "outputs": [
    {
     "name": "stderr",
     "output_type": "stream",
     "text": [
      "2024/11/23 17:33:49 WARNING mlflow.sklearn: Failed to log training dataset information to MLflow Tracking. Reason: 'numpy.ndarray' object has no attribute 'toarray'\n",
      "2024/11/23 17:33:51 WARNING mlflow.sklearn: Failed to log training dataset information to MLflow Tracking. Reason: 'numpy.ndarray' object has no attribute 'toarray'\n"
     ]
    },
    {
     "name": "stdout",
     "output_type": "stream",
     "text": [
      "🏃 View run worried-stag-155 at: http://127.0.0.1:5000/#/experiments/1/runs/fb6a22fb4f7b4803a4fea322e85f26f7\n",
      "🧪 View experiment at: http://127.0.0.1:5000/#/experiments/1\n"
     ]
    },
    {
     "name": "stderr",
     "output_type": "stream",
     "text": [
      "2024/11/23 17:33:53 WARNING mlflow.sklearn: Failed to log training dataset information to MLflow Tracking. Reason: 'numpy.ndarray' object has no attribute 'toarray'\n"
     ]
    },
    {
     "name": "stdout",
     "output_type": "stream",
     "text": [
      "🏃 View run bemused-vole-258 at: http://127.0.0.1:5000/#/experiments/1/runs/77dd75ff2d6c4050a01bb537ce2990c0\n",
      "🧪 View experiment at: http://127.0.0.1:5000/#/experiments/1\n"
     ]
    },
    {
     "name": "stderr",
     "output_type": "stream",
     "text": [
      "2024/11/23 17:33:54 WARNING mlflow.sklearn: Failed to log training dataset information to MLflow Tracking. Reason: 'numpy.ndarray' object has no attribute 'toarray'\n"
     ]
    },
    {
     "name": "stdout",
     "output_type": "stream",
     "text": [
      "🏃 View run upbeat-fawn-30 at: http://127.0.0.1:5000/#/experiments/1/runs/2bcb9af1f3c245e988cc9cffc7c2086c\n",
      "🧪 View experiment at: http://127.0.0.1:5000/#/experiments/1\n",
      "🏃 View run clean-seal-246 at: http://127.0.0.1:5000/#/experiments/1/runs/1c61d8d560d44ec8b330046887358a23\n",
      "🧪 View experiment at: http://127.0.0.1:5000/#/experiments/1\n"
     ]
    }
   ],
   "source": [
    "from sklearn.ensemble import RandomForestRegressor, GradientBoostingRegressor, ExtraTreesRegressor\n",
    "from sklearn.svm import LinearSVR\n",
    "\n",
    "# Using mlflow autolog\n",
    "mlflow.sklearn.autolog()\n",
    "\n",
    "for model_class in (RandomForestRegressor, GradientBoostingRegressor, ExtraTreesRegressor, LinearSVR):\n",
    "\n",
    "    with mlflow.start_run():\n",
    "\n",
    "        mlflow.set_tag(\"developer\", \"oliver\")\n",
    "        mlflow.log_param(\"train-data-path\", \"../datasets/airbnb-listings-may.csv\")\n",
    "        mlflow.log_param(\"val-data-path\", \"../datasets/airbnb-listings-june.csv\")\n",
    "        mlflow.log_artifact(\"../models/preprocessor.b\", artifact_path=\"preprocessor\")\n",
    "\n",
    "        mlmodel = model_class()\n",
    "        mlmodel.fit(X_train, y_train)\n",
    "\n",
    "        y_pred = mlmodel.predict(X_val)\n",
    "        rmse = root_mean_squared_error(y_val, y_pred)\n",
    "        mlflow.log_metric(\"rmse\", rmse)"
   ]
  },
  {
   "cell_type": "markdown",
   "metadata": {},
   "source": [
    "### Load models"
   ]
  },
  {
   "cell_type": "code",
   "execution_count": 26,
   "metadata": {},
   "outputs": [
    {
     "data": {
      "text/plain": [
       "mlflow.pyfunc.loaded_model:\n",
       "  artifact_path: models\n",
       "  flavor: mlflow.xgboost\n",
       "  run_id: 7b5744464f544451aee4a9308d1971ad"
      ]
     },
     "execution_count": 26,
     "metadata": {},
     "output_type": "execute_result"
    }
   ],
   "source": [
    "import mlflow\n",
    "\n",
    "RUN_ID = '7b5744464f544451aee4a9308d1971ad'\n",
    "logged_model = f'runs:/{RUN_ID}/models'\n",
    "\n",
    "# Load model as a PyFuncModel.\n",
    "loaded_model = mlflow.pyfunc.load_model(logged_model)\n",
    "loaded_model"
   ]
  },
  {
   "cell_type": "code",
   "execution_count": 27,
   "metadata": {},
   "outputs": [
    {
     "name": "stdout",
     "output_type": "stream",
     "text": [
      "RMSE:  0.1439410538291169\n"
     ]
    }
   ],
   "source": [
    "y_pred = booster.predict(valid)\n",
    "rmse = root_mean_squared_error(y_val, y_pred)\n",
    "print(\"RMSE: \", rmse)"
   ]
  },
  {
   "cell_type": "code",
   "execution_count": null,
   "metadata": {},
   "outputs": [],
   "source": []
  }
 ],
 "metadata": {
  "kernelspec": {
   "display_name": "cuda",
   "language": "python",
   "name": "python3"
  },
  "language_info": {
   "codemirror_mode": {
    "name": "ipython",
    "version": 3
   },
   "file_extension": ".py",
   "mimetype": "text/x-python",
   "name": "python",
   "nbconvert_exporter": "python",
   "pygments_lexer": "ipython3",
   "version": "3.12.5"
  }
 },
 "nbformat": 4,
 "nbformat_minor": 2
}
