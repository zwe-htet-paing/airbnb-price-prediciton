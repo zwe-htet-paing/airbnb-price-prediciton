{
 "cells": [
  {
   "cell_type": "code",
   "execution_count": 1,
   "metadata": {},
   "outputs": [],
   "source": [
    "import os\n",
    "import uuid\n",
    "import pickle\n",
    "\n",
    "import pandas as pd\n",
    "import numpy as np\n",
    "\n",
    "import mlflow"
   ]
  },
  {
   "cell_type": "code",
   "execution_count": 2,
   "metadata": {},
   "outputs": [
    {
     "name": "stdout",
     "output_type": "stream",
     "text": [
      "Tracking URI: 'http://127.0.0.1:5000'\n"
     ]
    }
   ],
   "source": [
    "TRACKING_URL = \"http://127.0.0.1:5000\"\n",
    "mlflow.set_tracking_uri(TRACKING_URL)\n",
    "\n",
    "print(f\"Tracking URI: '{mlflow.get_tracking_uri()}'\")"
   ]
  },
  {
   "cell_type": "code",
   "execution_count": null,
   "metadata": {},
   "outputs": [
    {
     "name": "stdout",
     "output_type": "stream",
     "text": [
      "Input file:  https://data.insideairbnb.com/united-states/ny/albany/2024-09-05/visualisations/listings.csv\n",
      "output_file:  output/albany/2024-09-listings.csv\n"
     ]
    }
   ],
   "source": [
    "# 'https://data.insideairbnb.com/united-states/ny/albany/2024-09-05/visualisations/listings.csv'\n",
    "\n",
    "year = 2024\n",
    "month = 9\n",
    "day = 5\n",
    "city = 'albany'\n",
    "\n",
    "input_file = f'https://data.insideairbnb.com/united-states/ny/{city}/{year:04d}-{month:02d}-{day:02d}/visualisations/listings.csv'\n",
    "output_file = f'output/{city}/{year:04d}-{month:02d}-listings.csv'\n",
    "\n",
    "RUN_ID = os.getenv('RUN_ID', '1936d050006746eeaa60c76db167d18c')\n",
    "\n",
    "print(\"Input file: \", input_file)\n",
    "print(\"output_file: \", output_file)"
   ]
  },
  {
   "cell_type": "code",
   "execution_count": 4,
   "metadata": {},
   "outputs": [],
   "source": [
    "def generate_uuids(n):\n",
    "    ride_ids = []\n",
    "    for i in range(n):\n",
    "        ride_ids.append(str(uuid.uuid4()))\n",
    "    return ride_ids\n",
    "\n",
    "def read_dataframe(filename):\n",
    "    df = pd.read_csv(filename)\n",
    "    \n",
    "    # Handle missing values\n",
    "    df = df.dropna(subset=['price'])\n",
    "    df['reviews_per_month'] = df['reviews_per_month'].fillna(0)\n",
    "    df['last_review'] = pd.to_datetime(df['last_review'])\n",
    "    \n",
    "    df['request_id'] = generate_uuids(len(df))\n",
    "\n",
    "    return df\n",
    "\n",
    "\n",
    "def preprocess(df):\n",
    "    # Calculate IQR\n",
    "    Q1 = df['price'].quantile(0.25)  # First quartile (25th percentile)\n",
    "    Q3 = df['price'].quantile(0.75)  # Third quartile (75th percentile)\n",
    "    IQR = Q3 - Q1  # Interquartile range\n",
    "\n",
    "    # Define outlier boundaries\n",
    "    lower_bound = Q1 - 1.5 * IQR\n",
    "    upper_bound = Q3 + 1.5 * IQR\n",
    "    \n",
    "    # Remove outliers\n",
    "    df = df[(df['price'] >= lower_bound) & (df['price'] <= upper_bound)].reset_index(drop=True)\n",
    "    \n",
    "    return df\n",
    "\n",
    "def prepare_dictionaries(df: pd.DataFrame):    \n",
    "    # Feature selection\n",
    "    numerical = ['latitude', 'longitude', 'minimum_nights', 'number_of_reviews', 'reviews_per_month', 'availability_365']\n",
    "    categorical = ['room_type', 'neighbourhood']\n",
    "    df[categorical] = df[categorical].astype(str)\n",
    "\n",
    "    dicts = df[categorical + numerical].to_dict(orient='records')\n",
    "    return dicts"
   ]
  },
  {
   "cell_type": "code",
   "execution_count": null,
   "metadata": {},
   "outputs": [],
   "source": [
    "def load_model(run_id):\n",
    "    logged_model = f'runs:/{run_id}/model'\n",
    "    # Load model as a PyFuncModel.\n",
    "    # loaded_model = mlflow.pyfunc.load_model(logged_model)\n",
    "    loaded_model = mlflow.sklearn.load_model(logged_model)\n",
    "\n",
    "    return loaded_model\n",
    "\n",
    "\n",
    "def apply_model(input_file, run_id, output_file):\n",
    "\n",
    "    df = read_dataframe(input_file)\n",
    "    df = preprocess(df)\n",
    "    dicts = prepare_dictionaries(df)\n",
    "    \n",
    "    model = load_model(run_id)\n",
    "    y_pred = model.predict(dicts)\n",
    "    result = np.round(np.power(10, y_pred), 2)\n",
    "\n",
    "    df_result = pd.DataFrame()\n",
    "    df_result['request_id'] = df['request_id']\n",
    "    df_result['room_type'] = df['room_type']\n",
    "    df_result['neighbourhood'] = df['neighbourhood']\n",
    "    df_result['latitude'] = df['latitude']\n",
    "    df_result['longitude'] = df['longitude']\n",
    "    df_result['minimum_nights'] = df['minimum_nights']\n",
    "    df_result['number_of_reviews'] = df['number_of_reviews']\n",
    "    df_result['reviews_per_month'] = df['reviews_per_month']\n",
    "    df_result['availability_365'] = df['availability_365']\n",
    "    df_result['actual_price'] = df['price']\n",
    "    df_result['predicted_price'] = result\n",
    "    df_result['diff'] = df_result['actual_price'] - df_result['predicted_price']\n",
    "    df_result['model_version'] = run_id\n",
    "    \n",
    "    df_result.to_csv(output_file, index=False)"
   ]
  },
  {
   "cell_type": "code",
   "execution_count": 6,
   "metadata": {},
   "outputs": [],
   "source": [
    "# df = read_dataframe(input_file)\n",
    "# df = preprocess(df)\n",
    "# df.head()"
   ]
  },
  {
   "cell_type": "code",
   "execution_count": 7,
   "metadata": {},
   "outputs": [],
   "source": [
    "apply_model(input_file=input_file, run_id=RUN_ID, output_file=output_file)"
   ]
  },
  {
   "cell_type": "code",
   "execution_count": 8,
   "metadata": {},
   "outputs": [
    {
     "name": "stdout",
     "output_type": "stream",
     "text": [
      "2024-09-listings.csv\n"
     ]
    }
   ],
   "source": [
    "!ls output/albany/"
   ]
  },
  {
   "cell_type": "code",
   "execution_count": 9,
   "metadata": {},
   "outputs": [
    {
     "name": "stdout",
     "output_type": "stream",
     "text": [
      "output/albany/2024-09-listings.csv\n"
     ]
    }
   ],
   "source": [
    "print(output_file)"
   ]
  },
  {
   "cell_type": "code",
   "execution_count": 10,
   "metadata": {},
   "outputs": [
    {
     "data": {
      "text/html": [
       "<div>\n",
       "<style scoped>\n",
       "    .dataframe tbody tr th:only-of-type {\n",
       "        vertical-align: middle;\n",
       "    }\n",
       "\n",
       "    .dataframe tbody tr th {\n",
       "        vertical-align: top;\n",
       "    }\n",
       "\n",
       "    .dataframe thead th {\n",
       "        text-align: right;\n",
       "    }\n",
       "</style>\n",
       "<table border=\"1\" class=\"dataframe\">\n",
       "  <thead>\n",
       "    <tr style=\"text-align: right;\">\n",
       "      <th></th>\n",
       "      <th>request_id</th>\n",
       "      <th>room_type</th>\n",
       "      <th>neighbourhood</th>\n",
       "      <th>latitude</th>\n",
       "      <th>longitude</th>\n",
       "      <th>minimum_nights</th>\n",
       "      <th>number_of_reviews</th>\n",
       "      <th>reviews_per_month</th>\n",
       "      <th>availability_365</th>\n",
       "      <th>actual_price</th>\n",
       "      <th>predicted_price</th>\n",
       "      <th>diff</th>\n",
       "      <th>model_version</th>\n",
       "    </tr>\n",
       "  </thead>\n",
       "  <tbody>\n",
       "    <tr>\n",
       "      <th>0</th>\n",
       "      <td>b2dd609d-f761-4c88-8693-512d130793d4</td>\n",
       "      <td>Entire home/apt</td>\n",
       "      <td>THIRD WARD</td>\n",
       "      <td>42.65789</td>\n",
       "      <td>-73.75370</td>\n",
       "      <td>28</td>\n",
       "      <td>9</td>\n",
       "      <td>0.07</td>\n",
       "      <td>158</td>\n",
       "      <td>70.0</td>\n",
       "      <td>107.49</td>\n",
       "      <td>-37.489998</td>\n",
       "      <td>7b5744464f544451aee4a9308d1971ad</td>\n",
       "    </tr>\n",
       "    <tr>\n",
       "      <th>1</th>\n",
       "      <td>c7f29750-31ab-468c-9d40-6263f5d0cce2</td>\n",
       "      <td>Entire home/apt</td>\n",
       "      <td>SIXTH WARD</td>\n",
       "      <td>42.65222</td>\n",
       "      <td>-73.76724</td>\n",
       "      <td>2</td>\n",
       "      <td>305</td>\n",
       "      <td>2.49</td>\n",
       "      <td>336</td>\n",
       "      <td>116.0</td>\n",
       "      <td>107.75</td>\n",
       "      <td>8.250000</td>\n",
       "      <td>7b5744464f544451aee4a9308d1971ad</td>\n",
       "    </tr>\n",
       "    <tr>\n",
       "      <th>2</th>\n",
       "      <td>78b67f9c-dbba-476e-a31e-849f4fea930c</td>\n",
       "      <td>Entire home/apt</td>\n",
       "      <td>SECOND WARD</td>\n",
       "      <td>42.64615</td>\n",
       "      <td>-73.75966</td>\n",
       "      <td>2</td>\n",
       "      <td>366</td>\n",
       "      <td>3.22</td>\n",
       "      <td>34</td>\n",
       "      <td>75.0</td>\n",
       "      <td>98.79</td>\n",
       "      <td>-23.790001</td>\n",
       "      <td>7b5744464f544451aee4a9308d1971ad</td>\n",
       "    </tr>\n",
       "    <tr>\n",
       "      <th>3</th>\n",
       "      <td>0448df82-25bc-43b1-b239-7184a867c464</td>\n",
       "      <td>Entire home/apt</td>\n",
       "      <td>SIXTH WARD</td>\n",
       "      <td>42.65222</td>\n",
       "      <td>-73.76724</td>\n",
       "      <td>2</td>\n",
       "      <td>328</td>\n",
       "      <td>2.91</td>\n",
       "      <td>279</td>\n",
       "      <td>116.0</td>\n",
       "      <td>104.04</td>\n",
       "      <td>11.959999</td>\n",
       "      <td>7b5744464f544451aee4a9308d1971ad</td>\n",
       "    </tr>\n",
       "    <tr>\n",
       "      <th>4</th>\n",
       "      <td>3b9b9d92-b481-4665-9f96-8fc241ab1611</td>\n",
       "      <td>Private room</td>\n",
       "      <td>TENTH WARD</td>\n",
       "      <td>42.66063</td>\n",
       "      <td>-73.78115</td>\n",
       "      <td>3</td>\n",
       "      <td>18</td>\n",
       "      <td>0.17</td>\n",
       "      <td>179</td>\n",
       "      <td>199.0</td>\n",
       "      <td>73.69</td>\n",
       "      <td>125.309998</td>\n",
       "      <td>7b5744464f544451aee4a9308d1971ad</td>\n",
       "    </tr>\n",
       "  </tbody>\n",
       "</table>\n",
       "</div>"
      ],
      "text/plain": [
       "                             request_id        room_type neighbourhood  \\\n",
       "0  b2dd609d-f761-4c88-8693-512d130793d4  Entire home/apt    THIRD WARD   \n",
       "1  c7f29750-31ab-468c-9d40-6263f5d0cce2  Entire home/apt    SIXTH WARD   \n",
       "2  78b67f9c-dbba-476e-a31e-849f4fea930c  Entire home/apt   SECOND WARD   \n",
       "3  0448df82-25bc-43b1-b239-7184a867c464  Entire home/apt    SIXTH WARD   \n",
       "4  3b9b9d92-b481-4665-9f96-8fc241ab1611     Private room    TENTH WARD   \n",
       "\n",
       "   latitude  longitude  minimum_nights  number_of_reviews  reviews_per_month  \\\n",
       "0  42.65789  -73.75370              28                  9               0.07   \n",
       "1  42.65222  -73.76724               2                305               2.49   \n",
       "2  42.64615  -73.75966               2                366               3.22   \n",
       "3  42.65222  -73.76724               2                328               2.91   \n",
       "4  42.66063  -73.78115               3                 18               0.17   \n",
       "\n",
       "   availability_365  actual_price  predicted_price        diff  \\\n",
       "0               158          70.0           107.49  -37.489998   \n",
       "1               336         116.0           107.75    8.250000   \n",
       "2                34          75.0            98.79  -23.790001   \n",
       "3               279         116.0           104.04   11.959999   \n",
       "4               179         199.0            73.69  125.309998   \n",
       "\n",
       "                      model_version  \n",
       "0  7b5744464f544451aee4a9308d1971ad  \n",
       "1  7b5744464f544451aee4a9308d1971ad  \n",
       "2  7b5744464f544451aee4a9308d1971ad  \n",
       "3  7b5744464f544451aee4a9308d1971ad  \n",
       "4  7b5744464f544451aee4a9308d1971ad  "
      ]
     },
     "execution_count": 10,
     "metadata": {},
     "output_type": "execute_result"
    }
   ],
   "source": [
    "result = pd.read_csv(output_file)\n",
    "result.head()"
   ]
  },
  {
   "cell_type": "code",
   "execution_count": null,
   "metadata": {},
   "outputs": [],
   "source": []
  },
  {
   "cell_type": "code",
   "execution_count": null,
   "metadata": {},
   "outputs": [],
   "source": []
  }
 ],
 "metadata": {
  "kernelspec": {
   "display_name": "cuda",
   "language": "python",
   "name": "python3"
  },
  "language_info": {
   "codemirror_mode": {
    "name": "ipython",
    "version": 3
   },
   "file_extension": ".py",
   "mimetype": "text/x-python",
   "name": "python",
   "nbconvert_exporter": "python",
   "pygments_lexer": "ipython3",
   "version": "3.12.5"
  }
 },
 "nbformat": 4,
 "nbformat_minor": 2
}
